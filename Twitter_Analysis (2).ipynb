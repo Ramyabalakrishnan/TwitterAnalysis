{
 "cells": [
  {
   "cell_type": "markdown",
   "metadata": {},
   "source": [
    "# Twitter Data Analysis"
   ]
  },
  {
   "cell_type": "markdown",
   "metadata": {},
   "source": [
    "###### including neccessary packages for the Twitter Analysis Code"
   ]
  },
  {
   "cell_type": "code",
   "execution_count": 118,
   "metadata": {
    "collapsed": true
   },
   "outputs": [],
   "source": [
    "import string\n",
    "import operator\n",
    "import sys\n",
    "import time\n",
    "import collections\n",
    "import numpy"
   ]
  },
  {
   "cell_type": "markdown",
   "metadata": {},
   "source": [
    "# Reading The data From the .TXT file"
   ]
  },
  {
   "cell_type": "markdown",
   "metadata": {},
   "source": [
    "#### This file is used in all the 4 functions below"
   ]
  },
  {
   "cell_type": "code",
   "execution_count": 119,
   "metadata": {
    "collapsed": false
   },
   "outputs": [],
   "source": [
    "Read_File = \"D:/uncc/files/scrap/ramya project/fwdfromhellotextfileneedtofindtheremaininghaveat/hello.txt\"\n",
    "\n",
    "#Storing the read file into a Variable - with encoding format - latin-1\n",
    "with open(Read_File, encoding=\"latin-1\") as De_encode_File1:\n",
    "    hello1 = De_encode_File1.readlines()\n",
    "    "
   ]
  },
  {
   "cell_type": "markdown",
   "metadata": {},
   "source": [
    "# Most Tweeted Users"
   ]
  },
  {
   "cell_type": "markdown",
   "metadata": {},
   "source": [
    "#### This Function calculates the most tweeted users"
   ]
  },
  {
   "cell_type": "code",
   "execution_count": 120,
   "metadata": {
    "collapsed": false
   },
   "outputs": [],
   "source": [
    "#using the data from the text file saved in hello1 - variable\n",
    "\n",
    "#creating a empty array    \n",
    "\n",
    "names = {}\n",
    "count = 0\n",
    "for dat in hello1:\n",
    "    file2 = dat.split()    \n",
    "    names[count] = file2[0]\n",
    "    count = count+1 #count value to increament list of dictionary\n",
    "list_names = names.values()\n",
    "\n",
    "#list_names\n",
    "#len(list_names)\n",
    "\n",
    "#counting the number of occurences of each name \n",
    "count_names = collections.Counter(list_names)\n",
    "\n",
    "#displaying the new array\n",
    "#count_names\n",
    "\n",
    "#Taking the top 10 ans storing in array\n",
    "a = collections.Counter(count_names).most_common(10)\n",
    "\n",
    "#for i in range(0,10):\n",
    "#    print(a[i][0])\n",
    "    \n",
    "outputFile = open(r'D:\\uncc\\files\\scrap\\ramya project\\fwdfromhellotextfileneedtofindtheremaininghaveat\\output\\Most.txt', 'w', encoding=\"utf-8\")\n",
    "outputFile.write(\"The top 10users who have tweeted the for the entire timeline: \\n\",)\n",
    "for i in range(0,10):\n",
    "    outputFile.write(\"The user \" + a[i][0] + \" tweeted \" + str(a[i][1]) + \" times\" + \"\\n\")\n",
    "    outputFile.close\n"
   ]
  },
  {
   "cell_type": "markdown",
   "metadata": {},
   "source": [
    "# Maximum Followers"
   ]
  },
  {
   "cell_type": "markdown",
   "metadata": {},
   "source": [
    "#### This Function find the users with maximum Followers"
   ]
  },
  {
   "cell_type": "code",
   "execution_count": 121,
   "metadata": {
    "collapsed": false
   },
   "outputs": [],
   "source": [
    "#using the data from the text file saved in hello1 - variable\n",
    "\n",
    "Followers = {}\n",
    "\n",
    "for dat in hello1:\n",
    "    file2 = dat.split()    \n",
    "    if file2[0] not in Followers:\n",
    "        Followers[file2[0]] = int(file2[-2])\n",
    "\n",
    "Followers\n",
    "\n",
    "top_People_Followed = collections.Counter(Followers).most_common(10)\n",
    "top_People_Followed\n",
    "\n",
    "outputFile = open(r'D:\\uncc\\files\\scrap\\ramya project\\fwdfromhellotextfileneedtofindtheremaininghaveat\\output\\MostFollowed_retweeted.txt', 'w', encoding=\"utf-8\")\n",
    "outputFile.write(\"The top 10 users who have maximum followers for the entire timeline: \\n\",)\n",
    "\n",
    "for i in range(0, 10):\n",
    "    outputFile.write(str(i + 1) + \". Username: \" + top_People_Followed[i][0] + \" -> Number of Followers: \" + str(top_People_Followed[i][1]) + \"\\n\\n\")\n",
    "    outputFile.close    \n"
   ]
  },
  {
   "cell_type": "markdown",
   "metadata": {
    "collapsed": true
   },
   "source": [
    "# Maximum Retweets"
   ]
  },
  {
   "cell_type": "markdown",
   "metadata": {},
   "source": [
    "#### This Function calculates the people who have the maximum re tweets"
   ]
  },
  {
   "cell_type": "code",
   "execution_count": 122,
   "metadata": {
    "collapsed": true
   },
   "outputs": [],
   "source": [
    "#using the data from the text file saved in hello1 - variable\n",
    "\n",
    "MaxRetweets = {}\n",
    "\n",
    "for dat in hello1:\n",
    "    file2 = dat.split()    \n",
    "    if file2[0] not in MaxRetweets:\n",
    "        MaxRetweets[file2[0]] = int(file2[-1])\n",
    "\n",
    "MaxRetweets\n",
    "top_People_with_max_retweets = collections.Counter(MaxRetweets).most_common(10)\n",
    "top_People_with_max_retweets      \n",
    "outputFile = open(r'D:\\uncc\\files\\scrap\\ramya project\\fwdfromhellotextfileneedtofindtheremaininghaveat\\output\\Maximum_retweets.txt', 'w', encoding=\"utf-8\")\n",
    "outputFile.write(\"The top 10 users who have maximum retweets is as follows: \\n\",)\n",
    "\n",
    "for i in range(0, 10):\n",
    "    outputFile.write(str(i + 1) + \". Username: \" + top_People_with_max_retweets[i][0] + \" -> Number of Retweets: \" + str(top_People_with_max_retweets[i][1]) + \"\\n\\n\")\n",
    "    outputFile.close    \n"
   ]
  },
  {
   "cell_type": "markdown",
   "metadata": {},
   "source": [
    "# Most Tweeted Users Per Hour"
   ]
  },
  {
   "cell_type": "code",
   "execution_count": 123,
   "metadata": {
    "collapsed": false
   },
   "outputs": [],
   "source": [
    "#using the data from the text file saved in hello1 - variable\n",
    "\n",
    "mosttweethour = {}\n",
    "\n",
    "for dat in hello1:\n",
    "    file2 = dat.split()\n",
    "    file3 = file2[1].split(\":\")   #checking the time variable from each line\n",
    "    Time = file2[0] + \" \" + file2[1] \n",
    "    if Time in mosttweethour:\n",
    "        mosttweethour[Time] += 1\n",
    "    else:\n",
    "        mosttweethour[Time] = 1\n",
    "\n",
    "mosttweethour = sorted(mosttweethour.items(), key=operator.itemgetter(1), reverse=True)\n",
    "#mosttweet\n",
    "\n",
    "mosttweethour2 = {}\n",
    "\n",
    "totalpostbyuser = 0\n",
    "for dat in mosttweethour:\n",
    "    totalpostbyuser += 1\n",
    "    if (dat[0].split()[1]) in mosttweethour2:\n",
    "        mosttweethour2[dat[0].split()[1]] += 1\n",
    "    else:\n",
    "        mosttweethour2[dat[0].split()[1]] = 1\n",
    "\n",
    "mosttweethour2 = sorted(mosttweethour2.items(), key=operator.itemgetter(1))\n",
    "#print(mosttweethour2)\n",
    "\n",
    "\n",
    "totalEntriesToPrint = 10 * len(mosttweethour2)\n",
    "outputFile = open(r'D:\\uncc\\files\\scrap\\ramya project\\fwdfromhellotextfileneedtofindtheremaininghaveat\\output\\MostTweetedperHour.txt', 'w',\n",
    "                  encoding='utf-8')\n",
    "\n",
    "for x in range(0, len(mosttweethour2)):\n",
    "    Search = 10\n",
    "    for dat in mosttweethour:\n",
    "        if Search == 0:\n",
    "            break\n",
    "        if dat[0].split()[1] == mosttweethour2[x][0]:\n",
    "            outputFile.write(\"Username: \" + dat[0].split()[0] + \"\\n Hour: \" + mosttweethour2[x][0] + \"\\n\")\n",
    "            Search -= 1\n",
    "            outputFile.close\n",
    "\n",
    "##the end------------------"
   ]
  }
 ],
 "metadata": {
  "kernelspec": {
   "display_name": "Python 3",
   "language": "python",
   "name": "python3"
  },
  "language_info": {
   "codemirror_mode": {
    "name": "ipython",
    "version": 3
   },
   "file_extension": ".py",
   "mimetype": "text/x-python",
   "name": "python",
   "nbconvert_exporter": "python",
   "pygments_lexer": "ipython3",
   "version": "3.6.0"
  }
 },
 "nbformat": 4,
 "nbformat_minor": 2
}
